{
  "nbformat": 4,
  "nbformat_minor": 0,
  "metadata": {
    "colab": {
      "name": "UK.ipynb",
      "provenance": [],
      "collapsed_sections": [],
      "authorship_tag": "ABX9TyOIWHZ5KWJolUbKR/4ErcOz",
      "include_colab_link": true
    },
    "kernelspec": {
      "name": "python3",
      "display_name": "Python 3"
    },
    "language_info": {
      "name": "python"
    }
  },
  "cells": [
    {
      "cell_type": "markdown",
      "metadata": {
        "id": "view-in-github",
        "colab_type": "text"
      },
      "source": [
        "<a href=\"https://colab.research.google.com/github/IssamMerikhi/CCD/blob/master/UK.ipynb\" target=\"_parent\"><img src=\"https://colab.research.google.com/assets/colab-badge.svg\" alt=\"Open In Colab\"/></a>"
      ]
    },
    {
      "cell_type": "code",
      "metadata": {
        "id": "PyoAHR0XjUag"
      },
      "source": [
        "import pandas as pd\n",
        "import numpy as np\n",
        "from sklearn.preprocessing import MinMaxScaler"
      ],
      "execution_count": 22,
      "outputs": []
    },
    {
      "cell_type": "code",
      "metadata": {
        "id": "LwravtO1jdiK"
      },
      "source": [
        "gdp = pd.read_csv(\"GDP.csv\")\n",
        "inflation = pd.read_csv(\"InflationPourcentage.csv\")\n",
        "money = pd.read_csv(\"MoneyM3.csv\")"
      ],
      "execution_count": 2,
      "outputs": []
    },
    {
      "cell_type": "code",
      "metadata": {
        "colab": {
          "base_uri": "https://localhost:8080/"
        },
        "id": "6ES9ZvmtCJ5v",
        "outputId": "ca1eb017-1098-413c-f325-b6d279727d48"
      },
      "source": [
        "print('gdp shape :', gdp.shape)\n",
        "print('inflation shape :', inflation.shape)\n",
        "print('money shape :', money.shape)\n",
        "\n",
        "df = pd.merge(pd.merge(gdp,inflation),money)\n",
        "print('df shape', df.shape)"
      ],
      "execution_count": 28,
      "outputs": [
        {
          "output_type": "stream",
          "text": [
            "gdp shape : (183, 2)\n",
            "inflation shape : (807, 2)\n",
            "money shape : (410, 2)\n",
            "df shape (30, 4)\n"
          ],
          "name": "stdout"
        }
      ]
    },
    {
      "cell_type": "code",
      "metadata": {
        "colab": {
          "base_uri": "https://localhost:8080/"
        },
        "id": "9iqUz1AtClHS",
        "outputId": "156db97e-c57c-40cf-d84a-d3539eaa494b"
      },
      "source": [
        "print(df.head(5))"
      ],
      "execution_count": 29,
      "outputs": [
        {
          "output_type": "stream",
          "text": [
            "         DATE  CLVMNACSCAB1GQUK  CPIIUKA  MABMM301GBM189S\n",
            "0  1987-01-01          237048.3     3.20     2.629680e+11\n",
            "1  1988-01-01          253600.0     3.76     3.048060e+11\n",
            "2  1989-01-01          262361.5     5.24     3.560730e+11\n",
            "3  1990-01-01          266386.8     6.97     4.279980e+11\n",
            "4  1991-01-01          263277.6     7.53     4.672330e+11\n"
          ],
          "name": "stdout"
        }
      ]
    },
    {
      "cell_type": "code",
      "metadata": {
        "colab": {
          "base_uri": "https://localhost:8080/"
        },
        "id": "pwfRd9lQAirq",
        "outputId": "e3a8355c-9ebf-40e8-d1f8-34a62bf2f65b"
      },
      "source": [
        "df = df.rename(columns = {'DATE': 'date',\n",
        "                          'CLVMNACSCAB1GQUK':'gdp',\n",
        "                          'CPIIUKA':'inflation',\n",
        "                          'MABMM301GBM189S':'money'}, inplace = False)\n",
        "print(df.head(5))"
      ],
      "execution_count": 32,
      "outputs": [
        {
          "output_type": "stream",
          "text": [
            "         date       gdp  inflation         money\n",
            "0  1987-01-01  237048.3       3.20  2.629680e+11\n",
            "1  1988-01-01  253600.0       3.76  3.048060e+11\n",
            "2  1989-01-01  262361.5       5.24  3.560730e+11\n",
            "3  1990-01-01  266386.8       6.97  4.279980e+11\n",
            "4  1991-01-01  263277.6       7.53  4.672330e+11\n"
          ],
          "name": "stdout"
        }
      ]
    },
    {
      "cell_type": "code",
      "metadata": {
        "colab": {
          "base_uri": "https://localhost:8080/"
        },
        "id": "6zQ-1JbWBgMJ",
        "outputId": "055252c3-ce76-41df-816a-d26d980450e6"
      },
      "source": [
        "min_max_scaler = MinMaxScaler()\n",
        "\n",
        "df[[\"gdp\",\"inflation\", \"money\"]] = min_max_scaler.fit_transform(df[[\"gdp\", \"inflation\", \"money\"]])\n",
        "print(df.head(5))"
      ],
      "execution_count": 34,
      "outputs": [
        {
          "output_type": "stream",
          "text": [
            "         date       gdp  inflation     money    \n",
            "0  1987-01-01  0.000000   0.421896  0.000000 NaN\n",
            "1  1988-01-01  0.078266   0.496662  0.019425 NaN\n",
            "2  1989-01-01  0.119695   0.694259  0.043227 NaN\n",
            "3  1990-01-01  0.138729   0.925234  0.076620 NaN\n",
            "4  1991-01-01  0.124027   1.000000  0.094836 NaN\n"
          ],
          "name": "stdout"
        }
      ]
    },
    {
      "cell_type": "code",
      "metadata": {
        "colab": {
          "base_uri": "https://localhost:8080/",
          "height": 296
        },
        "id": "Q33-POT9lKn1",
        "outputId": "842b89fa-4966-4a32-a14e-92a1e2189975"
      },
      "source": [
        "df.plot(x=\"date\", y=[\"gdp\", \"inflation\", \"money\"], kind=\"line\")"
      ],
      "execution_count": 35,
      "outputs": [
        {
          "output_type": "execute_result",
          "data": {
            "text/plain": [
              "<matplotlib.axes._subplots.AxesSubplot at 0x7fe027b64410>"
            ]
          },
          "metadata": {
            "tags": []
          },
          "execution_count": 35
        },
        {
          "output_type": "display_data",
          "data": {
            "image/png": "[encoded data removed]",
            "text/plain": [
              "<Figure size 432x288 with 1 Axes>"
            ]
          },
          "metadata": {
            "tags": [],
            "needs_background": "light"
          }
        }
      ]
    }
  ]
}