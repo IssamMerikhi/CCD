{
  "nbformat": 4,
  "nbformat_minor": 0,
  "metadata": {
    "colab": {
      "name": "UK.ipynb",
      "provenance": [],
      "collapsed_sections": [],
      "authorship_tag": "ABX9TyNTtJylwGV7WS8cRs4pomHj",
      "include_colab_link": true
    },
    "kernelspec": {
      "name": "python3",
      "display_name": "Python 3"
    },
    "language_info": {
      "name": "python"
    }
  },
  "cells": [
    {
      "cell_type": "markdown",
      "metadata": {
        "id": "view-in-github",
        "colab_type": "text"
      },
      "source": [
        "<a href=\"https://colab.research.google.com/github/IssamMerikhi/CCD/blob/master/UK.ipynb\" target=\"_parent\"><img src=\"https://colab.research.google.com/assets/colab-badge.svg\" alt=\"Open In Colab\"/></a>"
      ]
    },
    {
      "cell_type": "code",
      "metadata": {
        "id": "PyoAHR0XjUag"
      },
      "source": [
        "import pandas as pd\n",
        "import numpy as np\n",
        "from sklearn.preprocessing import MinMaxScaler"
      ],
      "execution_count": 25,
      "outputs": []
    },
    {
      "cell_type": "code",
      "metadata": {
        "id": "LwravtO1jdiK"
      },
      "source": [
        "gdp = pd.read_csv(\"GDP.csv\", index_col=\"DATE\", parse_dates=True)\n",
        "money = pd.read_csv(\"MoneyM3.csv\", index_col=\"DATE\", parse_dates=True)\n",
        "\n",
        "\n",
        "gdp = gdp.rename(columns = {'CLVMNACSCAB1GQUK':'gdp'}, inplace = False)\n",
        "money = money.rename(columns = {'MABMM301GBM189S':'money'}, inplace = False)"
      ],
      "execution_count": 35,
      "outputs": []
    },
    {
      "cell_type": "code",
      "metadata": {
        "colab": {
          "base_uri": "https://localhost:8080/"
        },
        "id": "6ES9ZvmtCJ5v",
        "outputId": "dd88872b-c612-4cb7-a1c8-a360dabfcb61"
      },
      "source": [
        "print('gdp shape :', gdp.shape)\n",
        "print('money shape :', money.shape)\n"
      ],
      "execution_count": 36,
      "outputs": [
        {
          "output_type": "stream",
          "text": [
            "gdp shape : (183, 1)\n",
            "money shape : (410, 1)\n"
          ],
          "name": "stdout"
        }
      ]
    },
    {
      "cell_type": "code",
      "metadata": {
        "colab": {
          "base_uri": "https://localhost:8080/"
        },
        "id": "9iqUz1AtClHS",
        "outputId": "1ea3c324-490a-4e79-8f49-1b9391f7aed2"
      },
      "source": [
        "print(money.head(5),'\\n', gdp.head(5))"
      ],
      "execution_count": 39,
      "outputs": [
        {
          "output_type": "stream",
          "text": [
            "                   money\n",
            "DATE                    \n",
            "1986-12-01  1.741910e+11\n",
            "1987-01-01  2.629680e+11\n",
            "1987-02-01  2.662180e+11\n",
            "1987-03-01  2.707340e+11\n",
            "1987-04-01  2.749440e+11 \n",
            "                  gdp\n",
            "DATE                \n",
            "1975-01-01  180405.0\n",
            "1975-04-01  177442.3\n",
            "1975-07-01  176835.5\n",
            "1975-10-01  178863.1\n",
            "1976-01-01  181693.7\n"
          ],
          "name": "stdout"
        }
      ]
    },
    {
      "cell_type": "code",
      "metadata": {
        "colab": {
          "base_uri": "https://localhost:8080/",
          "height": 296
        },
        "id": "Q33-POT9lKn1",
        "outputId": "cdd57127-40a2-4585-8692-ae5159031f6a"
      },
      "source": [
        ""
      ],
      "execution_count": 24,
      "outputs": [
        {
          "output_type": "execute_result",
          "data": {
            "text/plain": [
              "<matplotlib.axes._subplots.AxesSubplot at 0x7f1dc8f406d0>"
            ]
          },
          "metadata": {
            "tags": []
          },
          "execution_count": 24
        },
        {
          "output_type": "display_data",
          "data": {
            "image/png": "[encoded data removed]",
            "text/plain": [
              "<Figure size 432x288 with 1 Axes>"
            ]
          },
          "metadata": {
            "tags": [],
            "needs_background": "light"
          }
        }
      ]
    },
    {
      "cell_type": "code",
      "metadata": {
        "colab": {
          "base_uri": "https://localhost:8080/"
        },
        "id": "6zQ-1JbWBgMJ",
        "outputId": "94b25530-4ae3-4b8a-ade9-2317d4fb2d37"
      },
      "source": [
        "#df = pd.merge(gdp, money, left_index=True, right_index=True)\n",
        "#print('final data shape :', df.shape)\n",
        "\n",
        "\n",
        "#min_max_scaler = MinMaxScaler()\n",
        "\n",
        "#df[[\"gdp\", \"money\"]] = min_max_scaler.fit_transform(df[[\"gdp\", \"money\"]])\n",
        "#print(df.head(5))"
      ],
      "execution_count": 23,
      "outputs": [
        {
          "output_type": "stream",
          "text": [
            "                 gdp     money\n",
            "DATE                          \n",
            "1987-01-01  0.000000  0.000000\n",
            "1987-04-01  0.014732  0.004083\n",
            "1987-07-01  0.039490  0.007868\n",
            "1987-10-01  0.051311  0.011113\n",
            "1988-01-01  0.070123  0.014263\n"
          ],
          "name": "stdout"
        }
      ]
    }
  ]
}